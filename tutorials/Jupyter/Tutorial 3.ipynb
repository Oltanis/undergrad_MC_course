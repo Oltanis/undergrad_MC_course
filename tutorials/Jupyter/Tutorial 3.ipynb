{
 "cells": [
  {
   "cell_type": "markdown",
   "metadata": {
    "collapsed": true
   },
   "source": [
    "# Tutorial 4: Grand Canonical Ensemble\n",
    "\n",
    "Authors: Chris King, James Grant - r.j.grant@bath.ac.uk"
   ]
  },
  {
   "cell_type": "code",
   "execution_count": 1,
   "metadata": {
    "collapsed": true
   },
   "outputs": [],
   "source": [
    "#import everything we need for this tutorial"
   ]
  },
  {
   "cell_type": "markdown",
   "metadata": {},
   "source": [
    "## Introduction:\n",
    "\n",
    "So far in this course, we have been running simulations on systems with a constant number of particles (NVT or NPT ensembles).  This is useful for studying systems where there is no exchange of particles from one defined type to another and where predicting system behaviour by optimising particle number, *N*, is not required.  However, not all systems can be modelled in this way, for instance, phase coexistence, where more than one phase of a material exist in equilibrium, is very difficult to model accurately if the total number of particles in each phase is kept constant.  Other examples include: adsorption onto a surface (as you will see in this and future sessions), effect of solid-state defects on bulk properties and dissolution rates.  \n",
    "\n",
    "However, we know that ensembles require three parameters to be kept constant, so what replaces *N*? The answer is chemical potential, $\\mu$. There are several definitions of chemical potential in the literature, but the most common definition is the effect of number of particles on the total Gibbs Free Energy, *G*, of the system:\n",
    "\n",
    "$$\\mu = \\Bigl|\\frac{\\partial G}{\\partial N}\\Bigr|_{V, T}$$ \n",
    "\n",
    "Or in a multi-component system, the effect of system composition on *G*, where the i:sup:`th` component of the system has its own chemical potential, $\\mu_i$:\n",
    "\n",
    "$$\\mu_i = \\Bigl|\\frac{\\partial G}{\\partial N_i}\\Bigr|_{V, T, N_{j, j \\neq i}}$$\n",
    "\n",
    "$\\mu$ can be thought of as the 'chemical driving force' for a system to reach equilibrium (see Figure 1) where the equilibrium composition of a system is the composition with minimum Gibbs free energy.  For alternative explanations of the chemical potential, try [1](http://www.icsm.fr/Local/icsm/files/286/JFD_Chemical-potential.pdf), [2](http://chem.atmos.colostate.edu/AT620/Sonia_uploads/ATS620_F11_Lecture5/Lecture5_AT620_083111.pdf) or any physical chemistry textbook.\n",
    "\n",
    "<img src=\"images/Tut_4_images/chemical_potential.png\" />\n",
    "\n",
    "<div style=\"text-align: center\">**Figure 1**: A graphical representation of the chemical potential of a two-component (A and B particles) system driving it towards its equilibrium composition. </div>\n",
    "\n",
    "The $\\mu$ VT ensemble is known as the Grand Canonical ensemble and is the most widely-used 'variable *N*' ensemble.  Other simulation techniques, like Molecular Dynamics, are very inefficient at accurately modelling systems where the total number of particles isn't constant, which is why Monte Carlo is the preferred technique in these situations.\n",
    "\n",
    "One could, in principle, also choose to use an $\\mu$ PT ensemble, what kind of problems could arise when running simulations under this ensemble?"
   ]
  },
  {
   "cell_type": "code",
   "execution_count": 2,
   "metadata": {},
   "outputs": [
    {
     "name": "stdout",
     "output_type": "stream",
     "text": [
      "\n"
     ]
    }
   ],
   "source": [
    "a = input()"
   ]
  },
  {
   "cell_type": "markdown",
   "metadata": {},
   "source": [
    "Removing the constraint of having fixed particle number allows several new Monte Carlo move types to be defined, the most fundamental being insert/delete moves, where the proposed move adds or removes a particle from the system, respectively.  Other move types like swaps and replacements can be defined in terms of insert/delete moves.\n",
    "\n",
    "Define a swap move, where a particle at one position is swapped with another particle at a different position, as a sequence of insert and delete moves."
   ]
  },
  {
   "cell_type": "code",
   "execution_count": 3,
   "metadata": {},
   "outputs": [
    {
     "name": "stdout",
     "output_type": "stream",
     "text": [
      "\n"
     ]
    }
   ],
   "source": [
    "b = input()"
   ]
  },
  {
   "cell_type": "markdown",
   "metadata": {},
   "source": [
    "Define a replacement move, where a particle in one position is changed to a particle of a different type, but remains in the same position, as a sequence of insert and delete moves."
   ]
  },
  {
   "cell_type": "code",
   "execution_count": 4,
   "metadata": {},
   "outputs": [
    {
     "name": "stdout",
     "output_type": "stream",
     "text": [
      "\n"
     ]
    }
   ],
   "source": [
    "c = input()"
   ]
  },
  {
   "cell_type": "markdown",
   "metadata": {},
   "source": [
    "The total energy, *E* of the system performing an insert/delete move is defined as:\n",
    "\n",
    "$$E(\\mathbf{r}_2,N_2) = U(\\mathbf{r}_1,N_1) + \\mu \\Delta N$$\n",
    "\n",
    "where $U(\\mathbf{r}_1)$ is the energy of the initial configuration, $\\mathbf{r}_1$, of the system, $N_1, N_2$ are the initial and final numbers of particles, respectively, and $\\Delta N = N_2 - N_1$. \n",
    "\n",
    "Is $\\Delta N$ positive or negative for insertions? What about deletions?"
   ]
  },
  {
   "cell_type": "code",
   "execution_count": 5,
   "metadata": {},
   "outputs": [
    {
     "name": "stdout",
     "output_type": "stream",
     "text": [
      "\n"
     ]
    }
   ],
   "source": [
    "d = input()"
   ]
  },
  {
   "cell_type": "markdown",
   "metadata": {},
   "source": [
    "As in the previous sessions, we will be using DLMONTE run Monte Carlo calculations in an attempt to model adsorption of Lennard-Jones particles onto a zeolite surfaces.  All calculations in this tutorial will be conducted under the Grand Canonical ensemble."
   ]
  },
  {
   "cell_type": "markdown",
   "metadata": {},
   "source": [
    "### CONFIG\n",
    "\n",
    "Below shows the general CONFIG file structure used in this tutorial:"
   ]
  },
  {
   "cell_type": "code",
   "execution_count": 6,
   "metadata": {},
   "outputs": [
    {
     "ename": "SyntaxError",
     "evalue": "invalid syntax (<ipython-input-6-54058a178753>, line 3)",
     "output_type": "error",
     "traceback": [
      "\u001b[1;36m  File \u001b[1;32m\"<ipython-input-6-54058a178753>\"\u001b[1;36m, line \u001b[1;32m3\u001b[0m\n\u001b[1;33m    if line =< 12:\u001b[0m\n\u001b[1;37m            ^\u001b[0m\n\u001b[1;31mSyntaxError\u001b[0m\u001b[1;31m:\u001b[0m invalid syntax\n"
     ]
    }
   ],
   "source": [
    "f = open('inputs/Tut_4/main/Equil/CONFIG', 'r')\n",
    "for i, line in enumerate(f):\n",
    "    if line =< 12:\n",
    "        print(line, end='')\n",
    "    else:\n",
    "        print(\"etc.\")\n",
    "        break\n",
    "f.close()"
   ]
  },
  {
   "cell_type": "markdown",
   "metadata": {},
   "source": [
    "You will notice that the CONFIG is much smaller than its counterpart used in the last session.  This is because the number of particles (or molecules in this case) will vary over the course of the simulation, we need to only specify the initial configuration, which will start with only 8 molecules.  In principle, you can define the locations of any number of molecules in the CONFIG file (as long as that number falls between the minimum and maximum numbers stated in the 'NUMMOL' line), but for the purposes of this tutorial, we start at the minimum number: 8.\n",
    "\n",
    "### CONTROL\n",
    "\n",
    "The CONTROL file will take the following form in this tutorial:"
   ]
  },
  {
   "cell_type": "code",
   "execution_count": 7,
   "metadata": {},
   "outputs": [
    {
     "ename": "FileNotFoundError",
     "evalue": "[Errno 2] No such file or directory: 'inputs/Tut_4/main/Equil/CONTROL'",
     "output_type": "error",
     "traceback": [
      "\u001b[1;31m---------------------------------------------------------------------------\u001b[0m",
      "\u001b[1;31mFileNotFoundError\u001b[0m                         Traceback (most recent call last)",
      "\u001b[1;32m<ipython-input-7-d1f6747e0456>\u001b[0m in \u001b[0;36m<module>\u001b[1;34m()\u001b[0m\n\u001b[1;32m----> 1\u001b[1;33m \u001b[0mf\u001b[0m \u001b[1;33m=\u001b[0m \u001b[0mopen\u001b[0m\u001b[1;33m(\u001b[0m\u001b[1;34m'inputs/Tut_4/main/Equil/CONTROL'\u001b[0m\u001b[1;33m,\u001b[0m \u001b[1;34m'r'\u001b[0m\u001b[1;33m)\u001b[0m\u001b[1;33m\u001b[0m\u001b[0m\n\u001b[0m\u001b[0;32m      2\u001b[0m \u001b[0mf\u001b[0m\u001b[1;33m.\u001b[0m\u001b[0mreadlines\u001b[0m\u001b[1;33m(\u001b[0m\u001b[1;33m)\u001b[0m\u001b[1;33m\u001b[0m\u001b[0m\n\u001b[0;32m      3\u001b[0m \u001b[0mf\u001b[0m\u001b[1;33m.\u001b[0m\u001b[0mclose\u001b[0m\u001b[1;33m(\u001b[0m\u001b[1;33m)\u001b[0m\u001b[1;33m\u001b[0m\u001b[0m\n",
      "\u001b[1;31mFileNotFoundError\u001b[0m: [Errno 2] No such file or directory: 'inputs/Tut_4/main/Equil/CONTROL'"
     ]
    }
   ],
   "source": [
    "f = open('inputs/Tut_4/main/Equil/CONTROL', 'r')\n",
    "f.readlines()\n",
    "f.close()"
   ]
  },
  {
   "cell_type": "markdown",
   "metadata": {},
   "source": [
    "The directives that switch on the neighbour lists: *nbrlist* and *maxnonbondnbrs* have been suspended in this session.  This is because the computational cost of maintaining the list under $\\mu$ VT ensembles negate the benefits when calculating the energy.  We have also suspended: atom translation moves for simplicity (though there is nothing in principle wrong with allowing these types of moves), and volume moves since we work under a constant-volume ensemble.\n",
    "\n",
    "In this calculation DLMONTE is using the activity *a* rather than the chemical potential $\\mu$, which are related according to: \n",
    "\n",
    "$$a = \\exp \\Bigl(\\frac{\\mu}{RT}\\Bigr)$$\n",
    "\n",
    "where *R* is the gas constant.\n",
    "\n",
    "From the activity value given in the above CONTROL file, what value of $\\mu$ does this correspond to?"
   ]
  },
  {
   "cell_type": "code",
   "execution_count": 8,
   "metadata": {},
   "outputs": [
    {
     "name": "stdout",
     "output_type": "stream",
     "text": [
      "\n"
     ]
    }
   ],
   "source": [
    "e = input()"
   ]
  },
  {
   "cell_type": "markdown",
   "metadata": {},
   "source": [
    "### FIELD\n",
    "\n",
    "The FIELD file looks almost identical to the ones from the previous session:"
   ]
  },
  {
   "cell_type": "code",
   "execution_count": null,
   "metadata": {
    "collapsed": true
   },
   "outputs": [],
   "source": [
    "f = open('inputs/Tut_4/main/Equil/FIELD', 'r')\n",
    "f.readlines()\n",
    "f.close()"
   ]
  },
  {
   "cell_type": "markdown",
   "metadata": {},
   "source": [
    "In the NVT and NPT cases all the particles were declared to be part of the same molecule, now each particle is a molecule in its own right.  This distinction is made to simplify the calculation under $\\mu$ VT ensembles.  In principle, atoms can be added or removed from a molecule however, for simplicity, we shall insert or delete whole molecules rather than parts of molecules.  Since we have a single Lennard-Jones particle in each molecule we simply position it at the origin of the molecule.\n",
    "\n",
    "Remember, there must be correspondence between the CONFIG and FIELD files, *i.e.* the number of molecule and atom types should be the same in both files.\n",
    "\n",
    "## Exercise 1)\n",
    "\n",
    "By running the cell below, you will have imported the data inside the folder specified in the filepath for this exercise:"
   ]
  },
  {
   "cell_type": "code",
   "execution_count": 9,
   "metadata": {},
   "outputs": [
    {
     "ename": "NameError",
     "evalue": "name 'dlmonte' is not defined",
     "output_type": "error",
     "traceback": [
      "\u001b[1;31m---------------------------------------------------------------------------\u001b[0m",
      "\u001b[1;31mNameError\u001b[0m                                 Traceback (most recent call last)",
      "\u001b[1;32m<ipython-input-9-73054079583a>\u001b[0m in \u001b[0;36m<module>\u001b[1;34m()\u001b[0m\n\u001b[1;32m----> 1\u001b[1;33m \u001b[0mdata\u001b[0m \u001b[1;33m=\u001b[0m \u001b[0mdlmonte\u001b[0m\u001b[1;33m.\u001b[0m\u001b[0mDLMonteData\u001b[0m\u001b[1;33m(\u001b[0m\u001b[1;34m\"\"\u001b[0m\u001b[1;33m)\u001b[0m\u001b[1;33m\u001b[0m\u001b[0m\n\u001b[0m",
      "\u001b[1;31mNameError\u001b[0m: name 'dlmonte' is not defined"
     ]
    }
   ],
   "source": [
    "data = dlmonte.DLMonteData(\"\")"
   ]
  },
  {
   "cell_type": "markdown",
   "metadata": {},
   "source": [
    "Now let's run the first calculation of the day using DLMONTE at an initial number of steps: "
   ]
  },
  {
   "cell_type": "code",
   "execution_count": 10,
   "metadata": {
    "collapsed": true
   },
   "outputs": [],
   "source": [
    "# This will take approximately a minute to complete"
   ]
  },
  {
   "cell_type": "markdown",
   "metadata": {},
   "source": [
    "Now extract the time-sequence of the number of particles in the system:"
   ]
  },
  {
   "cell_type": "code",
   "execution_count": 11,
   "metadata": {
    "collapsed": true
   },
   "outputs": [],
   "source": [
    "# Extract the number of molecules over the course of the simulation and plot N vs time, probably best to save the file each time too"
   ]
  },
  {
   "cell_type": "markdown",
   "metadata": {},
   "source": [
    "Now repeat this process for the other folders in this directory, which represents an increasing number of steps.  The calculations will take progressively longer to complete with increasing number of steps.\n",
    "\n",
    "From the plots of *N* vs time, determine the minimum number of steps it takes for the system to reach equilibrium."
   ]
  },
  {
   "cell_type": "code",
   "execution_count": 12,
   "metadata": {},
   "outputs": [
    {
     "name": "stdout",
     "output_type": "stream",
     "text": [
      "\n"
     ]
    }
   ],
   "source": [
    "f = input()"
   ]
  },
  {
   "cell_type": "markdown",
   "metadata": {},
   "source": [
    "## Exercise 2)\n",
    "\n",
    "Now that you have determined the ideal simulation length, we will now assess the effect of both temperature, *T*, and activity, *a* on both the time sequence of *N* and the final number of molecules present in the system.  \n",
    "\n",
    "To do this, go back to the data input cell and change the filepath to \"\" and repeat Exercise 1 for each of the activity and temperature values.\n",
    "\n",
    "You can also create histograms that describe the probability distribution of the number of particles adsorbed to the surface over the course of the simulation:"
   ]
  },
  {
   "cell_type": "code",
   "execution_count": 13,
   "metadata": {
    "collapsed": true
   },
   "outputs": [],
   "source": [
    "# make a histogram here"
   ]
  },
  {
   "cell_type": "markdown",
   "metadata": {},
   "source": [
    "What happens to the number of adsorbed particles over the course of the simulation as you vary the temperature and activity?"
   ]
  },
  {
   "cell_type": "code",
   "execution_count": 14,
   "metadata": {},
   "outputs": [
    {
     "name": "stdout",
     "output_type": "stream",
     "text": [
      "\n"
     ]
    }
   ],
   "source": [
    "g = input()"
   ]
  },
  {
   "cell_type": "markdown",
   "metadata": {},
   "source": [
    "* From your results and your own knowledge, how does the value of $\\mu$ change the ease at which particles are:\n",
    "\n",
    " a) inserted\n",
    " \n",
    " b) deleted"
   ]
  },
  {
   "cell_type": "code",
   "execution_count": 15,
   "metadata": {},
   "outputs": [
    {
     "name": "stdout",
     "output_type": "stream",
     "text": [
      "a) \n"
     ]
    }
   ],
   "source": [
    "h = input(\"a) \")"
   ]
  },
  {
   "cell_type": "code",
   "execution_count": 16,
   "metadata": {},
   "outputs": [
    {
     "name": "stdout",
     "output_type": "stream",
     "text": [
      "b) \n"
     ]
    }
   ],
   "source": [
    "i = input(\"b) \")"
   ]
  },
  {
   "cell_type": "markdown",
   "metadata": {},
   "source": [
    "* For what range of temperatures and activities is there:\n",
    "\n",
    " a) adsorption\n",
    " \n",
    " b) no adsorption\n",
    " \n",
    " c) an adsorption-desorption equilibrium"
   ]
  },
  {
   "cell_type": "code",
   "execution_count": 17,
   "metadata": {},
   "outputs": [
    {
     "name": "stdout",
     "output_type": "stream",
     "text": [
      "a) \n",
      "b) \n",
      "c) \n"
     ]
    }
   ],
   "source": [
    "j = input(\"a) \")\n",
    "k = input(\"b) \")\n",
    "l = input(\"c) \")"
   ]
  },
  {
   "cell_type": "markdown",
   "metadata": {},
   "source": [
    "How does the shape of the histogram vary with:\n",
    "\n",
    " a) temperature\n",
    " b) activity "
   ]
  },
  {
   "cell_type": "code",
   "execution_count": 18,
   "metadata": {},
   "outputs": [
    {
     "name": "stdout",
     "output_type": "stream",
     "text": [
      "a) \n",
      "b) \n"
     ]
    }
   ],
   "source": [
    "m = input(\"a) \")\n",
    "n = input(\"b) \")"
   ]
  },
  {
   "cell_type": "markdown",
   "metadata": {},
   "source": [
    "## Conclusions:\n",
    "\n",
    "In this session, you have been introduced to the Grand Canonical (GC) ensemble, where the total number of particles in the system can vary but the chemical potential of the system remains constnt.  This is useful for systems with interfaces or exchange of one particle type for another and has no equivalent in deterministic simulation techniques like Molecular Dynamics.  You have applied the GC emsemble to the hypothetical problem of Lennard-Jones particles adsorbing onto a surface to determine the ideal conditions for adsorption/desorption.  In the next session, we will apply the GC ensemble to the physical system of methane adsorption onto the surface of a zeolite in order to predict the conditions for ideal adsorption.\n",
    "\n",
    "## Extensions (optional):\n",
    "\n",
    "### 1. Detailed Balance in the Grand Canonical Ensemble:\n",
    "\n",
    "Like with the inclusion of volume moves in the previous session, the conditions through which detailed balance is maintained when employing insert/delete moves in $\\mu$\\VT ensemble must be altered, such that, for particle insertions, the acceptance probability in the Metropolis algorithm in moving from an initial configuration, $\\mathbf{r}_1$, with $N_1 = N$ particles, to a final configuration, $\\mathbf{r}_2$, with $N_2 = N + 1$ particles is:\n",
    "\n",
    "$$P_{\\mathrm{acc}}([\\mathbf{r}_1,N_1] \\rightarrow [\\mathbf{r}_2,N_2] ) = \\min(1,  \\frac{V\\Lambda^{-3}}{N+1} \\exp \\{- \\beta [E(\\mathbf{r}_2,N_2) - E(\\mathbf{r}_1,N_1)] \\}$$\n",
    "\n",
    "where $V$ is the system volume, $\\Lambda$ represents the characteristic length scale of the system, $E(\\mathbf{r}_{1/2},N_{1/2})$ are the configurational energies of the initial/final configurations, respectively and $\\beta = \\frac{1}{kT}$.  The $\\frac{V\\Lambda^{-3}}{N+1}$ coefficient represents the fact that you can insert a particle anywhere in the system (inside a volume, *V*) but the likelihood of deleting that particle is $\\frac{1}{\\mathrm{total number of particles}} = \\frac{1}{N + 1}$.  $\\Lambda$ appears to conserve units and can be readily absorbed into the chemical potential.  Similarly, the acceptance criterion for particle deletions is given by:\n",
    "\n",
    "$$P_{\\mathrm{acc}}([\\mathbf{r}_1,N_1] \\rightarrow [\\mathbf{r}_2,N_2] ) = \\min(1,  \\frac{N\\Lambda^{3}}{V}\\exp \\{- \\beta [E(\\mathbf{r}_2,N_2) - E(\\mathbf{r}_1,N_1)] \\} )$$\n",
    "\n",
    "where $N = N_1$ is the initial number of particles (before the deletion) and $N - 1 = N_2$ is the final number of particles (after the deletion).  For more information on detailed balance in the Grand Canonical ensemble, see [3].  \n",
    "\n",
    "In this session, we have defined our Lennard-Jones particles as 'molecules' made up of one atom.  For larger molecules, there are additional terms which come from the specific orientation of molecules.  Molecular rotations are difficult to model accurately in this way because the molecule can change its orientation between insertion and deletion moves, leading to technically 'different' molecules being inserted and deleted, breaking detailed balance.  Does this apply to both linear and nonlinear molecules? What angles can you rotate (symmetric) linear molecules that will satisfy detailed balance? What are the possible solutions to this problem? "
   ]
  },
  {
   "cell_type": "code",
   "execution_count": null,
   "metadata": {
    "collapsed": true
   },
   "outputs": [],
   "source": [
    "o = input()"
   ]
  },
  {
   "cell_type": "markdown",
   "metadata": {},
   "source": [
    "Can molecular vibrations be modelled in Grand Canonical Monte Carlo simulations in a way that ensures detailed balance?"
   ]
  },
  {
   "cell_type": "code",
   "execution_count": null,
   "metadata": {
    "collapsed": true
   },
   "outputs": [],
   "source": [
    "p = input()"
   ]
  },
  {
   "cell_type": "markdown",
   "metadata": {},
   "source": [
    "## References:\n",
    "\n",
    "[1] Jean-Francois Dufreche, \"Chemical Potential\" [online], Available: http://www.icsm.fr/Local/icsm/files/286/JFD_Chemical-potential.pdf\n",
    "\n",
    "[2] Sonia Kreidenweis, \"Lecture 5\" [online], Available: http://chem.atmos.colostate.edu/AT620/Sonia_uploads/ATS620_F11_Lecture5/Lecture5_AT620_083111.pdf\n",
    "\n",
    "[3] M. S. Shell, \"Monte Carlo simulations in other ensembles\"[online], University of California at Santa Barbara: Engineering, 2012.  Available from: https://engineering.ucsb.edu/~shell/che210d/Monte_Carlo_other_ensembles.pdf"
   ]
  },
  {
   "cell_type": "code",
   "execution_count": null,
   "metadata": {
    "collapsed": true
   },
   "outputs": [],
   "source": []
  }
 ],
 "metadata": {
  "kernelspec": {
   "display_name": "Python 3",
   "language": "python",
   "name": "python3"
  },
  "language_info": {
   "codemirror_mode": {
    "name": "ipython",
    "version": 3
   },
   "file_extension": ".py",
   "mimetype": "text/x-python",
   "name": "python",
   "nbconvert_exporter": "python",
   "pygments_lexer": "ipython3",
   "version": "3.6.1"
  }
 },
 "nbformat": 4,
 "nbformat_minor": 2
}
