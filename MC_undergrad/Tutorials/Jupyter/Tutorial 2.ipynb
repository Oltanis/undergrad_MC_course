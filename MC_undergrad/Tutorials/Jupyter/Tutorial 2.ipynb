{
 "cells": [
  {
   "cell_type": "markdown",
   "metadata": {},
   "source": [
    "# Tutorial 3: Introduction to Ensembles and Move Types\n",
    "\n",
    "Authors: Chris King, James Grant - r.j.grant@bath.ac.uk"
   ]
  },
  {
   "cell_type": "code",
   "execution_count": 17,
   "metadata": {
    "collapsed": true
   },
   "outputs": [],
   "source": [
    "import matplotlib.pyplot as plt\n",
    "import matplotlib.table as tab"
   ]
  },
  {
   "cell_type": "markdown",
   "metadata": {},
   "source": [
    "## Introduction\n",
    "\n",
    "In the previous session, you were introduced to the ideas underlying Monte Carlo simulations by modelling a simple system and extracting useful output data which (hopefully) concurred with theory.  In this session, you will be formally introduced to the general Monte Carlo program, DLMONTE, which you unknowingly used in the previous session.  This session will begin to touch upon the concepts of ensembles and how the choice of ensemble affects the outcome of a simulation and explore the possible types of moves available in each ensemble.\n",
    "\n",
    "Ensembles are very important in thermodynamics and statistical mechanics, where one can readily observe the macroscopic properties of a system without being able to know or control its microscopic properties.  In simple terms, an ensemble can be thought of as a collection of a large number of replicas of a system, akin to running repeating an experiment many times with the same initial conditions.  By averaging the outcomes of each of these replicas, one can create a probability distribution of possible outcomes for an experiment in a given ensemble.  In this course and statistical mechanics you will come across several different ensembles which are described in the form of three letters, describing which parameters in the ensemble of the system are kept constant.  Ensembles are defined in this manner to ensure that they demonstrate statistical equilibrium, *i.e.* ensembles do not evolve over time, these include:\n",
    "\n",
    "- *N*: total number of individual objects (atoms, molecules, particles etc.) in the system kept constant.\n",
    "- *V*: system volume kept constant\n",
    "- *P*: system pressure kept constant\n",
    "- *T*: system temperature kept constant\n",
    "- *E*: the total energy of the system kept constant\n",
    "- $\\mu$: the chemical potential of the system kept constant (you'll see this later in the course)\n",
    "\n",
    "For example, 'NVT' means that the total number of particles, total volume and temperature are kept constant (known as the Canonical Ensemble) and 'NPT' means that the total number of particles, total pressure and temperature are kept constant (a.k.a. the Gibbs ensemble).  Figure 1 displays physical representations of the different ensembles that are used in thermodynamics.\n",
    "\n",
    "<img src=\"images/Tut_3_images/Statistical_Ensembles.png\" />\n",
    "\n",
    "<div style=\"text-align: center\">**Figure 1**: Visual representation of different ensembles [1]. </div>\n",
    "\n",
    "As you may recall, a key part of Monte Carlo simulations is sampling over all possible states of the system by 'moving' through configuration space, where a move is a change from an initial configuration to a new one.  The most intuitive move is translational moves which consist of physically moving an object from one set of coordinates to another (within reason).  But other types of moves are possible, depending on the type of ensemble used.  For instance, one can define a volume move, where the proposed move is changing the total system volume by altering one or more length scales of the system and (as we will see later in the course) one can also perform insert/delete and swap moves of objects. \n",
    "\n",
    "The sequence of moves defines the 'trajectory' of the system in configurational space.  It is important to understand that this is not the same as the physical motion of individual objects in the system, or the system itself, which is the traditional definition of a trajectory. There is no 'time' in Monte Carlo simulations; nothing *in* the system evolves with time.  This limits Monte Carlo to simulation of static systems only, so it cannot determine any dynamic properties of the system, like diffusion coefficients or rates of reaction.  Any reference to time in this context refers to the computational time required to complete the calculation.\n",
    "\n",
    "## Part 1: NVT Lennard-Jones Material\n",
    "\n",
    "To start with, you will be given an overview of the program that you will use (or have used) for all Monte Carlo calculations throughout this course: DLMONTE.  DLMONTE is the name of a program which provides a general Monte Carlo framework for use in scientific research.  This program is a direct Monte Carlo analogue to the Molecular Dynamics program DLPOLY (which you used in Tutorial 1). \n",
    "\n",
    "The best way to learn how to use DLMONTE is by applying it to a simple system, in this case determining the thermal behaviour of a Lennard-Jones solid.  This part of the tutorial is directly analagous to Tutorial 1, except now we shall be using Monte Carlo to simulate our Lennard-Jones material instead of Molecular Dynamics.  This will hopefully help highlight the differences in their respective approaches to this problem.\n",
    "\n",
    "The purpose of this part of the tutorial is to introduce some of the basic commands and file formats that are used by DLMONTE. DLMONTE requires at least 3 input files: FIELD, CONFIG and CONTROL files and we will discuss each of these in turn.\n",
    "\n",
    "### CONFIG\n",
    "\n",
    "The CONFIG file contains the positions of the particles and part of the file is shown below:"
   ]
  },
  {
   "cell_type": "code",
   "execution_count": null,
   "metadata": {
    "collapsed": true
   },
   "outputs": [],
   "source": [
    "f = open('inputs/Tut_2/main/NVT/CONFIG', 'r')\n",
    "for i, line in enumerate(f):\n",
    "    if line =< 12:\n",
    "        print(line, end='')\n",
    "    else:\n",
    "        print(\"etc.\")\n",
    "        break\n",
    "f.close()"
   ]
  },
  {
   "cell_type": "markdown",
   "metadata": {},
   "source": [
    "The rest of the file reads in the rest of the particles in our molecule in the same format.  If there were more than type of molecule, the file would define all the atoms/particles in each molecule sequentially.\n",
    "\n",
    "### CONTROL\n",
    "\n",
    "The CONTROL file provides parameters and conditions to DLMONTE about how to undertake the calculations. The CONTROL file in this example is:"
   ]
  },
  {
   "cell_type": "code",
   "execution_count": 8,
   "metadata": {},
   "outputs": [],
   "source": [
    "with open('inputs/Tut_2/main/NVT/CONTROL', 'r') as f:\n",
    "    f.read()"
   ]
  },
  {
   "cell_type": "markdown",
   "metadata": {},
   "source": [
    "The directives *nbrlist* and *maxnonbondnbrs* control the size and administration of the neighbourlist used by DLMONTE to optimise performance, and where a detailed explanation is given in one of the extensions.  The key feature here is that DLMONTE will not do anything unless told to do so (*N.B.* While this gives DLMONTE great flexibility it means also means that it may be possible to ask DLMONTE to perform ill-defined calculations).\n",
    "\n",
    "### FIELD\n",
    "\n",
    "The FIELD file contains a full description of the interatomic potentials present in the system.  The FIELD file used in this instance is:"
   ]
  },
  {
   "cell_type": "code",
   "execution_count": 1,
   "metadata": {},
   "outputs": [
    {
     "ename": "FileNotFoundError",
     "evalue": "[Errno 2] No such file or directory: 'inputs/Tut_3/main/NVT/FIELD'",
     "output_type": "error",
     "traceback": [
      "\u001b[1;31m---------------------------------------------------------------------------\u001b[0m",
      "\u001b[1;31mFileNotFoundError\u001b[0m                         Traceback (most recent call last)",
      "\u001b[1;32m<ipython-input-1-95dcd244d938>\u001b[0m in \u001b[0;36m<module>\u001b[1;34m()\u001b[0m\n\u001b[1;32m----> 1\u001b[1;33m \u001b[0mf\u001b[0m \u001b[1;33m=\u001b[0m \u001b[0mopen\u001b[0m\u001b[1;33m(\u001b[0m\u001b[1;34m'inputs/Tut_3/main/NVT/FIELD'\u001b[0m\u001b[1;33m,\u001b[0m \u001b[1;34m'r'\u001b[0m\u001b[1;33m)\u001b[0m\u001b[1;33m\u001b[0m\u001b[0m\n\u001b[0m\u001b[0;32m      2\u001b[0m \u001b[0mf\u001b[0m\u001b[1;33m.\u001b[0m\u001b[0mreadlines\u001b[0m\u001b[1;33m(\u001b[0m\u001b[1;33m)\u001b[0m\u001b[1;33m\u001b[0m\u001b[0m\n\u001b[0;32m      3\u001b[0m \u001b[0mf\u001b[0m\u001b[1;33m.\u001b[0m\u001b[0mclose\u001b[0m\u001b[1;33m(\u001b[0m\u001b[1;33m)\u001b[0m\u001b[1;33m\u001b[0m\u001b[0m\n",
      "\u001b[1;31mFileNotFoundError\u001b[0m: [Errno 2] No such file or directory: 'inputs/Tut_3/main/NVT/FIELD'"
     ]
    }
   ],
   "source": [
    "f = open('inputs/Tut_2/main/NVT/FIELD', 'r')\n",
    "f.readlines()\n",
    "f.close()"
   ]
  },
  {
   "cell_type": "markdown",
   "metadata": {},
   "source": [
    "The CUTOFF keyword is defined as 2.5 $\\sigma$ by convention.  The UNITS can also be electron volts (eV), kJmol<sup>-1</sup>, kJ or kcal.  The *NCONFIGS* keyword refers to the number of configurations and this is usually set to 1. You will see in later tutorials that more than one types of interactions can be defined at the end of the file.\n",
    "\n",
    "For more information on these files, refer to the DLMONTE manual in 'this directory'.\n",
    "\n",
    "Now let's call the inputs for the first calculation.  This will also be where you will call the inputs for every successive calculation that you will run in this tutorial."
   ]
  },
  {
   "cell_type": "code",
   "execution_count": null,
   "metadata": {
    "collapsed": true
   },
   "outputs": [],
   "source": [
    "# Select each set of input files by executing this cell\n",
    "data = dlmonte.DLMonteData(\"\")"
   ]
  },
  {
   "cell_type": "markdown",
   "metadata": {},
   "source": [
    "### Exercise 1)\n",
    "\n",
    "The aim of this exercise is to mirror some of the exercises from the first session and will hopefully illustrate another way to model a Lennard-Jones solid.  In this case, we will simulate the system under the NVT ensemble at various temperatures in order to estimate the melting point of the solid.\n",
    "\n",
    "What types of moves are possible in this ensemble?"
   ]
  },
  {
   "cell_type": "code",
   "execution_count": 2,
   "metadata": {},
   "outputs": [
    {
     "name": "stdout",
     "output_type": "stream",
     "text": [
      "Translational moves only\n"
     ]
    }
   ],
   "source": [
    "a = input()"
   ]
  },
  {
   "cell_type": "markdown",
   "metadata": {},
   "source": [
    "We have called forth our inputs using the cell above, now let's simulate a Lennard-Jones solid at a certain temperature using DLMONTE and see what happens:"
   ]
  },
  {
   "cell_type": "code",
   "execution_count": null,
   "metadata": {
    "collapsed": true
   },
   "outputs": [],
   "source": [
    "# This calculation will take a minute to complete"
   ]
  },
  {
   "cell_type": "markdown",
   "metadata": {},
   "source": [
    "A successful DLMONTE calculation will produce a number of output files:\n",
    "\n",
    "* OUTPUT.000 contains details of the simulation, statistics, running time, or errors if the calculation failed.\n",
    "* REVCON.000 contains the final configuration in the format specified\n",
    "* PTFILE.000 contains statistics though will eventually be deprecated in favour of...\n",
    "* YAMLDAT.000 which contains statistics in the yaml format\n",
    "* ARCHIVE.000/HISTORY.000/TRAJECTORY.000 contains the trajectory in the specified format\n",
    "\n",
    "In this exercise we will analyse the YAMLDAT.000 and visualise the trajectory files.  \n",
    "For your understanding of how the simulation proceeds it may nonetheless be useful to have some familiarity with the OUTPUT file.\n",
    "\n",
    "*N.B.* The OUTPUT.000 of a successfully completed job will end with 'normal exit'."
   ]
  },
  {
   "cell_type": "code",
   "execution_count": null,
   "metadata": {
    "collapsed": true
   },
   "outputs": [],
   "source": [
    "# some means of visualising the system, either the final configuration or the complete evolution of it"
   ]
  },
  {
   "cell_type": "markdown",
   "metadata": {},
   "source": [
    "So far in this course, we have assumed that the system has reached equilibrium with its surroundings, *i.e.* that the system has reached its most thermodynamically stable state with minimal net exchange of energy with its surroundings.  Equilibration is incredibly important to Monte Carlo (and many other computational modelling techniques) as it ensures reproducibility of results.  If we start from an arbitrary initial state with a given set of parameters, the first stage of the calculation will be establishing equilibrium, with the output during this period being of little use and should be omitted from any statistical analysis of the output.  In DLMONTE (and DLPOLY) we account for this period of time using the 'equilibration' parameter in the CONTROL file.  This states the point at which output data is included in any statistical analysis.  This 'equilibration time' will be different for every system with a given set of initial parameters and is usually estimated during preliminary analysis of the data.\n",
    "\n",
    "One way of determining when a system has reached equilibrium is by plotting the time evolution of total energy over the course of the simulation, which is what you will now do."
   ]
  },
  {
   "cell_type": "code",
   "execution_count": 1,
   "metadata": {
    "collapsed": true
   },
   "outputs": [],
   "source": [
    "# plot the time evolution of energy\n",
    "\n",
    "plt.figure()\n",
    "plt.xlabel(\"Number of steps\")\n",
    "plt.ylabel(\":math:`U(\\mathbf{r})`\")\n",
    "plt.title(\"Time-evolution of the configurational energy over the course of the simulation\")\n",
    "plt.axis()\n",
    "plt.plot(x1, y1, 'b-')\n",
    "plt.savefig(\"inputs/Tut_3/main/NVT/{}/Uvst.png\".format{T})"
   ]
  },
  {
   "cell_type": "markdown",
   "metadata": {},
   "source": [
    "From this energy plot, how can you tell whether the system has equilibrated? "
   ]
  },
  {
   "cell_type": "code",
   "execution_count": 2,
   "metadata": {},
   "outputs": [
    {
     "name": "stdout",
     "output_type": "stream",
     "text": [
      "answer\n"
     ]
    }
   ],
   "source": [
    "b = input()"
   ]
  },
  {
   "cell_type": "markdown",
   "metadata": {},
   "source": [
    "Estimate the equilibration time for your system."
   ]
  },
  {
   "cell_type": "code",
   "execution_count": 3,
   "metadata": {},
   "outputs": [
    {
     "name": "stdout",
     "output_type": "stream",
     "text": [
      "answer\n"
     ]
    }
   ],
   "source": [
    "c = input()"
   ]
  },
  {
   "cell_type": "markdown",
   "metadata": {},
   "source": [
    "How do you think the equilibration time will change with temperature? Explain your answer."
   ]
  },
  {
   "cell_type": "code",
   "execution_count": 7,
   "metadata": {},
   "outputs": [
    {
     "name": "stdout",
     "output_type": "stream",
     "text": [
      "answer\n"
     ]
    }
   ],
   "source": [
    "d = input()"
   ]
  },
  {
   "cell_type": "markdown",
   "metadata": {},
   "source": [
    "Now repeat this exercise for other temperature value by running the following cell **and then** modifying the filepath at the beginning of this exercise."
   ]
  },
  {
   "cell_type": "code",
   "execution_count": null,
   "metadata": {
    "collapsed": true
   },
   "outputs": [],
   "source": [
    "# code to make a new directory called 'temperaturevalue', copy input files into it and then change the temperature to 'temperaturevalue'"
   ]
  },
  {
   "cell_type": "markdown",
   "metadata": {},
   "source": [
    "Once you have run the calculations at several different temperatures, we can now plot the energy vs temperature dependence of our system as we did in Session 1:"
   ]
  },
  {
   "cell_type": "code",
   "execution_count": null,
   "metadata": {
    "collapsed": true
   },
   "outputs": [],
   "source": [
    "# collate all the average energy vs temperature values and then plot them all on the same graph\n",
    "\n",
    "plt.figure()\n",
    "plt.xlabel(\"Number of steps\")\n",
    "plt.ylabel(\":math:`U(\\mathbf{r})`\")\n",
    "plt.title(\"Time-evolution of the configurational energy over the course of the simulation\")\n",
    "plt.axis()\n",
    "plt.plot(x1, y1, 'b-')\n",
    "plt.savefig(\"inputs/Tut_3/main/NVT/UvsT.png\".format{T})"
   ]
  },
  {
   "cell_type": "markdown",
   "metadata": {},
   "source": [
    "From this plot, estimate the melting point for your system:"
   ]
  },
  {
   "cell_type": "code",
   "execution_count": 8,
   "metadata": {},
   "outputs": [
    {
     "name": "stdout",
     "output_type": "stream",
     "text": [
      "1.4\n"
     ]
    }
   ],
   "source": [
    "e = input()"
   ]
  },
  {
   "cell_type": "markdown",
   "metadata": {},
   "source": [
    "## Part 2: NPT Lennard-Jones Material\n",
    "\n",
    "In this part of the tutorial, we will again be looking at the phase transition of a Lennard-Jones solid, but under the NPT ensemble.  This allows not only translational moves of individual particles, but also volume moves (system expansion/contraction)."
   ]
  },
  {
   "cell_type": "markdown",
   "metadata": {},
   "source": [
    "The CONFIG and FIELD files are unchanged but the CONTROL has a few modifications:"
   ]
  },
  {
   "cell_type": "code",
   "execution_count": null,
   "metadata": {
    "collapsed": true
   },
   "outputs": [],
   "source": [
    "f = open('inputs/Tut_3/NPT/CONTROL', 'r')\n",
    "f.readlines()"
   ]
  },
  {
   "cell_type": "markdown",
   "metadata": {},
   "source": [
    "Notice the two new lines:"
   ]
  },
  {
   "cell_type": "code",
   "execution_count": null,
   "metadata": {
    "collapsed": true
   },
   "outputs": [],
   "source": [
    "for i, line in enumerate(f):\n",
    "    if i == 7:\n",
    "        print(\"pressure     0.0179123655568\")\n",
    "        #f.readline()\n",
    "    elif i == 18:\n",
    "        print(\"move volume cubic linear 1\")\n",
    "        #f.readline()\n",
    "    else i != 7 and i != 18:\n",
    "        continue\n",
    "f.close()"
   ]
  },
  {
   "cell_type": "markdown",
   "metadata": {},
   "source": [
    "which specify the pressure of our system and the instruction to introduce volume moves, respectively, 'linear' refers to how volume is sampled.\n",
    "\n",
    "### Exercise 2)\n",
    "\n",
    "Now repeat exercise 1 with the inputs from the 'NPT/Init' folder.\n",
    "\n",
    "Compare your results with those from the system under an NVT ensemble and rationalise any observed differences between them."
   ]
  },
  {
   "cell_type": "code",
   "execution_count": 9,
   "metadata": {},
   "outputs": [
    {
     "name": "stdout",
     "output_type": "stream",
     "text": [
      "answer\n"
     ]
    }
   ],
   "source": [
    "f = input()"
   ]
  },
  {
   "cell_type": "markdown",
   "metadata": {},
   "source": [
    "Since the NPT ensemble allows volume moves as well as translational moves, we can observe how the volume of the system changes over the course of a simulation:"
   ]
  },
  {
   "cell_type": "code",
   "execution_count": null,
   "metadata": {
    "collapsed": true
   },
   "outputs": [],
   "source": [
    "# extract volume data from the NPT calculations and plot the time evolution of each energy\n",
    "\n",
    "plt.figure()\n",
    "plt.xlabel(\"Number of steps\")\n",
    "plt.ylabel(\":math:`U(\\mathbf{r})`\")\n",
    "plt.title(\"Time-evolution of the configurational energy over the course of the simulation\")\n",
    "plt.axis()\n",
    "plt.plot(x1, y1, 'b-')\n",
    "plt.savefig(\"inputs/Tut_3/main/NVT/UvsT.png\".format{T})"
   ]
  },
  {
   "cell_type": "markdown",
   "metadata": {},
   "source": [
    "Are there any similarities between the shapes of the volume and energy plots as the simulation progresses? Is this what you would expect?"
   ]
  },
  {
   "cell_type": "code",
   "execution_count": 10,
   "metadata": {},
   "outputs": [
    {
     "name": "stdout",
     "output_type": "stream",
     "text": [
      "answer\n"
     ]
    }
   ],
   "source": [
    "g = input()"
   ]
  },
  {
   "cell_type": "markdown",
   "metadata": {},
   "source": [
    "We can also plot how the final system volume changes with temperature:"
   ]
  },
  {
   "cell_type": "code",
   "execution_count": null,
   "metadata": {
    "collapsed": true
   },
   "outputs": [],
   "source": [
    "# collate volume and energy vs temperature and plot them on the same graph\n",
    "\n",
    "plt.figure()\n",
    "plt.subplot()\n",
    "plt.xlabel(\"Temperature\")\n",
    "plt.ylabel(\":math:`U(\\mathbf{r})`\")\n",
    "plt.title(\"Time-evolution of the configurational energy over the course of the simulation\")\n",
    "plt.axis()\n",
    "axplt.plot(x1, y1, 'b-')\n",
    "\n",
    "ax2 = ax.twinx()\n",
    "s2 = np.sin(2 * np.pi * x)\n",
    "vs2 = np.vectorize(s2)\n",
    "ax2.plot(x, s2, 'r.')\n",
    "ax2.set_ylabel('sin', color='r')\n",
    "ax2.tick_params('y', colors='r')\n",
    "plt.show()"
   ]
  },
  {
   "cell_type": "markdown",
   "metadata": {},
   "source": [
    "Compare the behaviour of the system volume and energy plots.  Do they confirm the presence of a phase transition and if so, do they give similar melting points?"
   ]
  },
  {
   "cell_type": "code",
   "execution_count": 11,
   "metadata": {},
   "outputs": [
    {
     "name": "stdout",
     "output_type": "stream",
     "text": [
      "answer\n"
     ]
    }
   ],
   "source": [
    "h = input()"
   ]
  },
  {
   "cell_type": "markdown",
   "metadata": {},
   "source": [
    "Repeat Exercise 2 for the other pressure values in the inputs folder, so that we can plot how the volume varies as a function of pressure, as opposed to temperature:"
   ]
  },
  {
   "cell_type": "code",
   "execution_count": null,
   "metadata": {
    "collapsed": true
   },
   "outputs": [],
   "source": [
    "# Plot the variation in volume with pressure here"
   ]
  },
  {
   "cell_type": "markdown",
   "metadata": {},
   "source": [
    "Shown below is the phase diagram for the Lennard-Jones material, taken from a research paper by Holian [2]:\n",
    "\n",
    "<img src=\"images/Tut_3_images/LJ_phase_diagram.png\" />\n",
    "\n",
    "<div style=\"text-align: center\">**Figure 2:** Phase diagram of the Lennard-Jones system, plotting (reduced) temperature against (reduced) density. </div>\n",
    "\n",
    "Compare your results with the phase diagram.  Why do you not see coexistence of the solid and liquid phases in your system?\n",
    "\n",
    "*N.B.* Don't be put off by the fact that density is shown instead of pressure, they are equivalent in our system.\n",
    "\n",
    "*N.B.* If you want to know about reduced units, try the following websites [3](http://www4.ncsu.edu/~franzen/public_html/CH795N/modules/ar_mod/comp_output.html), [4](http://cbio.bmt.tue.nl/pumma/index.php/Manual/ReducedUnits) or any computational chemistry textbook."
   ]
  },
  {
   "cell_type": "code",
   "execution_count": null,
   "metadata": {
    "collapsed": true
   },
   "outputs": [],
   "source": [
    "i = input()"
   ]
  },
  {
   "cell_type": "markdown",
   "metadata": {},
   "source": [
    "## Conclusions:\n",
    "\n",
    "After this session, you should now be familiar with the input/output files of DLMONTE as well as running calculation with the program. You have demonstrated its use by running simulations on the simple Lennard-Jones solid system and confirmed that it shows thermodynamic behaviour consistent with real materials. You have been introduced to the concept of ensembles in thermodynamics, in particular the NVT and NPT ensembles. You should also have an appreciation for the possible types of Monte Carlo moves that can be proposed within NVT and NPT ensembles and the differences between them. In the next session, we will move onto simulations under the $\\mu$VT (Grand Canonical) ensemble and troduce the concept of detailed balance in the Monte Carlo technique.\n",
    "\n",
    "## Extensions (optional):\n",
    "\n",
    "### 1. Move size update\n",
    "\n",
    "DLMONTE is able to automatically tune the size of attempted moves to optimise performance. By altering the maximum proposed move size during the simulation DLMONTE is able to optimise for the particular problem.\n",
    "\n",
    "If the proposed moves are very small, how does this affect the acceptance probability? How would this affect the evolution of the system?"
   ]
  },
  {
   "cell_type": "code",
   "execution_count": null,
   "metadata": {
    "collapsed": true
   },
   "outputs": [],
   "source": [
    "j = input()"
   ]
  },
  {
   "cell_type": "markdown",
   "metadata": {},
   "source": [
    "Similarly, what happens when proposed moves are very big?"
   ]
  },
  {
   "cell_type": "code",
   "execution_count": null,
   "metadata": {
    "collapsed": true
   },
   "outputs": [],
   "source": [
    "k = input()"
   ]
  },
  {
   "cell_type": "markdown",
   "metadata": {},
   "source": [
    "The CONTROL file for employing this optimisation contains three new lines:"
   ]
  },
  {
   "cell_type": "code",
   "execution_count": null,
   "metadata": {
    "collapsed": true
   },
   "outputs": [],
   "source": [
    "f = open('inputs/Tut_3/extensions/movesize/CONTROL', 'r')\n",
    "for i, line in enumerate(f):\n",
    "    if i >= 9 and i <= 12:\n",
    "        print(line, end='')\n",
    "    else:\n",
    "        continue\n",
    "f.close()"
   ]
  },
  {
   "cell_type": "markdown",
   "metadata": {},
   "source": [
    "Go back to the data input cell and change the filepath to \"inputs/Tut_3/extensions/movesize\" and repeat exercise 1.  You will **not** need to run the calculation at different temperatures.\n",
    "\n",
    "Run the following cell **before** the calculation to vary one or more of the new directives in the CONTROL file (maxtmdist, acceptatmmoveupdate and acceptatmmoveratio) and try to find the optimum equilibration time for the system at the given temperature."
   ]
  },
  {
   "cell_type": "code",
   "execution_count": null,
   "metadata": {
    "collapsed": true
   },
   "outputs": [],
   "source": [
    "# code to change one or more of the relevant directives in the CONTROL file"
   ]
  },
  {
   "cell_type": "markdown",
   "metadata": {},
   "source": [
    "### 2. Detailed balance for volume moves\n",
    "\n",
    "Establishing the condition for detailed balance in a simulation where volume moves are enabled is more complicated than for translational moves alone.  To maintain detailed balance with volume moves, the acceptance probability for a move from an initial configuration of particles in positions $\\mathbf{r}_1$ in a volume, $V_1$ to a new configuration, $\\mathbf{r}_2$ with a volume $V_2$, changes in the Metropolis algorithm to:\n",
    "\n",
    "$$P_{\\mathrm{acc}}([\\mathbf{r}_{1},V_1] \\rightarrow [\\mathbf{r}_2,V_2]) = \\min(1, \\exp \\{- \\beta [U(\\mathbf{r}_2) - U(\\mathbf{r}_1) + P_{ext}(V_{2}-V_{1}) - N \\beta^{-1} \\ln(V_{2} / V_{1}) ] \\} )$$\n",
    "\n",
    "where $P_{ext}$ is the external pressure acting on the system and $\\beta = \\frac{1}{kT}$.  In most simulations, the positions of every object in a system is expressed as dimensionless, scalable position coordinates, which scale with the size of the system such that when the volume changes, the *relative* positions of the objects in the new size remains the same, but the distance between objects in the system goes up or down depending on whether the volume has increased or decreased.  However, the number of possible configurations of a system is determined in part by its total volume, such that a larger system will have more possible configurations.  This must be accounted with the $N \\beta^{-1} \\ln(V_{2} / V_{1})$ term.  The other terms in the exponent come from the probability distributions of isothermal-isobaric systems, where the $P_{ext}(V_{2}-V_{1})$ represents the work done *on* the system by an external pressure.  For more information on detailed balance for volume moves, see [3].\n",
    "\n",
    "When performing volume moves on molecular systems, the position of the centre of mass of the molecule is scaled, as opposed to the positions of all of its constituent atoms, rationalise this caveat. (Hint: what would happen to all the chemical bonds if the atom positions were scaled instead? How would this affect the likelihood of accepting the move?) "
   ]
  },
  {
   "cell_type": "code",
   "execution_count": null,
   "metadata": {
    "collapsed": true
   },
   "outputs": [],
   "source": [
    "l = input()"
   ]
  },
  {
   "cell_type": "markdown",
   "metadata": {},
   "source": [
    "### 3. Neighbour lists"
   ]
  },
  {
   "cell_type": "code",
   "execution_count": null,
   "metadata": {
    "collapsed": true
   },
   "outputs": [],
   "source": [
    "# Select each set of input files by executing this cell\n",
    "data = dlmonte.DLMonteData(\"\")"
   ]
  },
  {
   "cell_type": "markdown",
   "metadata": {},
   "source": [
    "DLMONTE uses neighbour list to improve the performance of the energy calculation, particles only have to check interactions with their neighbours, not every particle in the simulation. This is particularly beneficial when particles retain the same numbers for the whole simulation or for any attempted moves. In DLMONTE, this functionality is described by the following lines in the CONTROL file:"
   ]
  },
  {
   "cell_type": "code",
   "execution_count": null,
   "metadata": {
    "collapsed": true
   },
   "outputs": [],
   "source": [
    "f = open('inputs/Tut_3/main/NPT/CONTROL', 'r')\n",
    "for i, line in enumerate(f):\n",
    "    if i == 3:\n",
    "        print(\"nbrlist auto\")\n",
    "        #f.readline()\n",
    "    elif i == 4:\n",
    "        print(\"maxnonbondnbrs 512\")\n",
    "        #f.readline()\n",
    "    elif i == 5:\n",
    "        print(\"verlet 2.0\")\n",
    "        #f.readline()\n",
    "    else:\n",
    "        continue\n",
    "f.close()"
   ]
  },
  {
   "cell_type": "markdown",
   "metadata": {},
   "source": [
    "*nbrlist auto* rebuilds a particle’s neighbourlist whenever necessary.\n",
    "*maxnonbondnbrs* describes the size of the neighbour list it determines the memory allocated for each particles neighbourlist. The size will be determined by the size of your system, its density and the interaction cut-off as specified in the FIELD file.\n",
    "*verlet* is a tunable parameter that optimises the performance of the calculation."
   ]
  },
  {
   "cell_type": "code",
   "execution_count": null,
   "metadata": {
    "collapsed": true
   },
   "outputs": [],
   "source": [
    "Now run the calculation:"
   ]
  },
  {
   "cell_type": "code",
   "execution_count": null,
   "metadata": {
    "collapsed": true
   },
   "outputs": [],
   "source": [
    "# This calculation will take an amount of time to complete"
   ]
  },
  {
   "cell_type": "markdown",
   "metadata": {},
   "source": [
    "Extract the time taken to complete each calculation by executing the following code:"
   ]
  },
  {
   "cell_type": "code",
   "execution_count": null,
   "metadata": {
    "collapsed": true
   },
   "outputs": [],
   "source": [
    "# Call forth the Python equivalent of time.sh"
   ]
  },
  {
   "cell_type": "markdown",
   "metadata": {},
   "source": [
    "Now change the verlet value and investigate how it affects the run time of the calculation.  Execute the following cell to change the verlet value in the CONTROL file:"
   ]
  },
  {
   "cell_type": "code",
   "execution_count": null,
   "metadata": {
    "collapsed": true
   },
   "outputs": [],
   "source": [
    "# code to change the verlet value in CONTROL file"
   ]
  },
  {
   "cell_type": "markdown",
   "metadata": {},
   "source": [
    "Record the time taken to complete each calculation in the following table:"
   ]
  },
  {
   "cell_type": "code",
   "execution_count": 24,
   "metadata": {
    "collapsed": true
   },
   "outputs": [],
   "source": [
    "# Try to create a table that they can input to"
   ]
  },
  {
   "cell_type": "markdown",
   "metadata": {},
   "source": [
    "### 4. Logarithmic Volume Moves\n",
    "\n",
    "The 'linear' keyword in the 'volume move' line of the NPT CONTROL file represents how the volume will change, in this case, on a linear scale.  However, one can also set the volume change to a logarithmic scale, this can be more efficient in simulations where large volume changes are required to representatively sample configuration space. The acceptance criterion for the move in the Metropolis algorithm is now:\n",
    "\n",
    "$$P_{\\mathrm{acc}}([\\mathbf{r}_{1},V_1] \\rightarrow [\\mathbf{r}_2,V_2]) = \\min(0,  ( N + 1 ) \\ln(\\frac{V_{2}}{V_{1}}) - \\beta [U(\\mathbf{r}_2) - U(\\mathbf{r}_1) + P_{ext}(V_{2}-V_{1})])$$\n",
    "\n",
    "Go back to the input data cell and change the filepath to \"inputs/Tut_3_extensions_logvol\" and run exercise 2 again, starting with this directory.\n",
    "\n",
    "You can directly compare the two regimes for a given temperature by running the following cell:"
   ]
  },
  {
   "cell_type": "code",
   "execution_count": null,
   "metadata": {
    "collapsed": true
   },
   "outputs": [],
   "source": [
    "# plot linear and logarthm volume moves on the same plot"
   ]
  },
  {
   "cell_type": "markdown",
   "metadata": {},
   "source": [
    "Rationalise any observed differences."
   ]
  },
  {
   "cell_type": "code",
   "execution_count": null,
   "metadata": {
    "collapsed": true
   },
   "outputs": [],
   "source": [
    "m = input()"
   ]
  },
  {
   "cell_type": "markdown",
   "metadata": {
    "collapsed": true
   },
   "source": [
    "## References:\n",
    "\n",
    "[1] Statistical_Ensembles.png - Wikipedia Commons: from - https://commons.wikimedia.org/wiki/File:Statistical_Ensembles.png Author: NZjacobmartin\n",
    "\n",
    "[2] B. L. Holian, \"Shear viscosities away from the melting line: A comparison of equilibrium and nonequilibrium molecular dynamics\", *J. Chem. Phys.*, **78**, 11, pp. 5147-5150, 1983.\n",
    "\n",
    "[3] M. S. Shell, \"Monte Carlo simulations in other ensembles\"[online], University of California at Santa Barbara: Engineering, 2012.  Available from: https://engineering.ucsb.edu/~shell/che210d/Monte_Carlo_other_ensembles.pdf"
   ]
  },
  {
   "cell_type": "code",
   "execution_count": null,
   "metadata": {
    "collapsed": true
   },
   "outputs": [],
   "source": []
  }
 ],
 "metadata": {
  "kernelspec": {
   "display_name": "Python 3",
   "language": "python",
   "name": "python3"
  },
  "language_info": {
   "codemirror_mode": {
    "name": "ipython",
    "version": 3
   },
   "file_extension": ".py",
   "mimetype": "text/x-python",
   "name": "python",
   "nbconvert_exporter": "python",
   "pygments_lexer": "ipython3",
   "version": "3.6.1"
  }
 },
 "nbformat": 4,
 "nbformat_minor": 2
}
